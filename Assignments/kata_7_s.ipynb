{
 "cells": [
  {
   "cell_type": "markdown",
   "metadata": {},
   "source": [
    "# **Kata 7 - Case Maker (stretch 2)**\n",
    "---\n",
    "In this exercise, we will be converting a normal string into camelCase text. We will receive a normal string of words separated with spaces as the input. Our job is to convert these strings into camel cased strings."
   ]
  },
  {
   "cell_type": "code",
   "execution_count": 3,
   "metadata": {},
   "outputs": [],
   "source": [
    "def camelCase(input_str: str) -> str:\n",
    "    to_convert = input_str.split()\n",
    "    for index in range(1, len(to_convert)):\n",
    "        to_convert[index] = to_convert[index].capitalize()\n",
    "    return ''.join(to_convert)"
   ]
  },
  {
   "cell_type": "code",
   "execution_count": 4,
   "metadata": {},
   "outputs": [
    {
     "name": "stdout",
     "output_type": "stream",
     "text": [
      "thisIsAString\n",
      "loopyLighthouse\n",
      "supercalifragalisticexpialidocious\n"
     ]
    }
   ],
   "source": [
    "print(camelCase(\"this is a string\"))\n",
    "print(camelCase(\"loopy lighthouse\"))\n",
    "print(camelCase(\"supercalifragalisticexpialidocious\"))"
   ]
  }
 ],
 "metadata": {
  "interpreter": {
   "hash": "3c65cb42372d50da30584ee8e41e7a8159294c20fb842b6953e4488c68a49248"
  },
  "kernelspec": {
   "display_name": "Python 3.7.10 64-bit ('base': conda)",
   "name": "python3"
  },
  "language_info": {
   "codemirror_mode": {
    "name": "ipython",
    "version": 3
   },
   "file_extension": ".py",
   "mimetype": "text/x-python",
   "name": "python",
   "nbconvert_exporter": "python",
   "pygments_lexer": "ipython3",
   "version": "3.7.10"
  },
  "orig_nbformat": 4
 },
 "nbformat": 4,
 "nbformat_minor": 2
}
