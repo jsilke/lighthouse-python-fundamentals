{
 "cells": [
  {
   "cell_type": "markdown",
   "metadata": {},
   "source": [
    "# **Percent Encoded String**\n",
    "---\n",
    "*Create a function named ```urlEncode``` that will receive a string of words, and return that string with all of the whitespace characters converted to ```%20```. If there is whitespace on the outside of the string, like in our second example above, you should only replace the whitespace within the string.*\n",
    "## DO NOT USE REPLACE!\n",
    "Use a loop"
   ]
  },
  {
   "cell_type": "code",
   "execution_count": 1,
   "metadata": {},
   "outputs": [],
   "source": [
    "def urlEncode(text: str) -> str:\n",
    "    \"\"\"\n",
    "    I'm sure this is fine.\n",
    "    \"\"\"\n",
    "    return \"%20\".join(text.strip().split())"
   ]
  },
  {
   "cell_type": "code",
   "execution_count": 6,
   "metadata": {},
   "outputs": [],
   "source": [
    "def urlEncode(text: str) -> str:\n",
    "    \"\"\"\n",
    "    This is silly.\n",
    "    \"\"\"\n",
    "    words = text.strip().split()\n",
    "    word = [f'{words[index]}%20' for index in range(len(words)-1)]\n",
    "    word.append(words[-1])\n",
    "    return ''.join(word)"
   ]
  },
  {
   "cell_type": "code",
   "execution_count": 7,
   "metadata": {},
   "outputs": [
    {
     "name": "stdout",
     "output_type": "stream",
     "text": [
      "Lighthouse%20Labs\n",
      "Lighthouse%20Labs\n",
      "blue%20is%20greener%20than%20purple%20for%20sure\n"
     ]
    }
   ],
   "source": [
    "print(urlEncode(\"Lighthouse Labs\"))\n",
    "print(urlEncode(\" Lighthouse Labs  \"))\n",
    "print(urlEncode(\"blue is greener than purple for sure\"))"
   ]
  }
 ],
 "metadata": {
  "interpreter": {
   "hash": "3c65cb42372d50da30584ee8e41e7a8159294c20fb842b6953e4488c68a49248"
  },
  "kernelspec": {
   "display_name": "Python 3.7.10 64-bit ('base': conda)",
   "name": "python3"
  },
  "language_info": {
   "codemirror_mode": {
    "name": "ipython",
    "version": 3
   },
   "file_extension": ".py",
   "mimetype": "text/x-python",
   "name": "python",
   "nbconvert_exporter": "python",
   "pygments_lexer": "ipython3",
   "version": "3.7.10"
  },
  "orig_nbformat": 4
 },
 "nbformat": 4,
 "nbformat_minor": 2
}
