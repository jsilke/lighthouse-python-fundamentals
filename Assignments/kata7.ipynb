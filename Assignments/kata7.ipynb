{
 "cells": [
  {
   "cell_type": "markdown",
   "metadata": {},
   "source": [
    "# **In the Air Tonight**\n",
    "---\n",
    "*For this challenge, we will implement a function called ```checkAir()```, which will check a collection of air samples. The function will take in two arguments. The first argument is a list of strings, where each string represents a small air sample that is either ```clean``` or ```dirty```. The second argument is a number representing the highest acceptable amount of dirty samples. For example, a threshold of 0.4 means that there must be less than 40% of total samples classified as dirty for our air to be considered clean. Our function must return ```Polluted``` if there are too many dirty air samples, or ```Clean``` if the proportion of dirty samples is below the threshold.*"
   ]
  },
  {
   "cell_type": "code",
   "execution_count": 7,
   "metadata": {},
   "outputs": [],
   "source": [
    "def checkAir(samples: list, threshold: float) -> str:\n",
    "    \"\"\"\n",
    "    returns 'Polluted' or 'Clean' depending on air samples relative to threshold.\n",
    "\n",
    "    params:\n",
    "    samples: ['clean' or 'dirty']\n",
    "    threshold: number of 'dirty'/ len(samples)\n",
    "    \"\"\"\n",
    "    dirty = 0\n",
    "    for sample in samples:\n",
    "        if sample == 'dirty': dirty += 1 \n",
    "    return \"Polluted\" if (dirty/len(samples)) >= threshold else \"Clean\" "
   ]
  },
  {
   "cell_type": "code",
   "execution_count": 8,
   "metadata": {},
   "outputs": [
    {
     "name": "stdout",
     "output_type": "stream",
     "text": [
      "Polluted\n",
      "Polluted\n",
      "Clean\n"
     ]
    }
   ],
   "source": [
    "print(checkAir(\n",
    "  ['clean', 'clean', 'dirty', 'clean', 'dirty', 'clean', 'clean', 'dirty', 'clean', 'dirty'],\n",
    "  0.3\n",
    "))\n",
    "\n",
    "print(checkAir(\n",
    "  ['dirty', 'dirty', 'dirty', 'dirty', 'clean'],\n",
    "  0.25\n",
    "))\n",
    "\n",
    "print(checkAir(\n",
    "  ['clean', 'dirty', 'clean', 'dirty', 'clean', 'dirty', 'clean'],\n",
    "  0.9\n",
    "))"
   ]
  }
 ],
 "metadata": {
  "interpreter": {
   "hash": "3c65cb42372d50da30584ee8e41e7a8159294c20fb842b6953e4488c68a49248"
  },
  "kernelspec": {
   "display_name": "Python 3.7.10 64-bit ('base': conda)",
   "name": "python3"
  },
  "language_info": {
   "codemirror_mode": {
    "name": "ipython",
    "version": 3
   },
   "file_extension": ".py",
   "mimetype": "text/x-python",
   "name": "python",
   "nbconvert_exporter": "python",
   "pygments_lexer": "ipython3",
   "version": "3.7.10"
  },
  "orig_nbformat": 4
 },
 "nbformat": 4,
 "nbformat_minor": 2
}
