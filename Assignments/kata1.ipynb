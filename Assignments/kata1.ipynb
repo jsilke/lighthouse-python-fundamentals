{
 "cells": [
  {
   "cell_type": "markdown",
   "metadata": {},
   "source": [
    "# **Sum Largest Numbers**\n",
    "---\n",
    "*Create a function named ```sumLargestNumbers``` that will receive a list of numbers and return the sum of the two largest numbers in that array.*"
   ]
  },
  {
   "cell_type": "code",
   "execution_count": 15,
   "metadata": {},
   "outputs": [],
   "source": [
    "def sumLargestNumbers(numbers: list) -> int:\n",
    "    highest = 0\n",
    "    high = 0\n",
    "    for number in numbers:\n",
    "        if number > high:\n",
    "            if number > highest:\n",
    "                high = highest\n",
    "                highest = number\n",
    "                continue\n",
    "            high = number\n",
    "\n",
    "    return highest + high      "
   ]
  },
  {
   "cell_type": "code",
   "execution_count": 16,
   "metadata": {},
   "outputs": [
    {
     "name": "stdout",
     "output_type": "stream",
     "text": [
      "11\n",
      "5\n",
      "126\n"
     ]
    }
   ],
   "source": [
    "print(sumLargestNumbers([1, 10]))\n",
    "print(sumLargestNumbers([1, 2, 3]))\n",
    "print(sumLargestNumbers([10, 4, 34, 6, 92, 2]))"
   ]
  }
 ],
 "metadata": {
  "interpreter": {
   "hash": "3c65cb42372d50da30584ee8e41e7a8159294c20fb842b6953e4488c68a49248"
  },
  "kernelspec": {
   "display_name": "Python 3.7.10 64-bit ('base': conda)",
   "name": "python3"
  },
  "language_info": {
   "codemirror_mode": {
    "name": "ipython",
    "version": 3
   },
   "file_extension": ".py",
   "mimetype": "text/x-python",
   "name": "python",
   "nbconvert_exporter": "python",
   "pygments_lexer": "ipython3",
   "version": "3.7.10"
  },
  "orig_nbformat": 4
 },
 "nbformat": 4,
 "nbformat_minor": 2
}
