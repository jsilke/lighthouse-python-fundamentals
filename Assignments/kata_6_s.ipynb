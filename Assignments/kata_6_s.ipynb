{
 "cells": [
  {
   "cell_type": "markdown",
   "metadata": {},
   "source": [
    "# **Kata 6 (stretch 1) - Repeating Numbers**\n",
    "---\n",
    "The input data for this exercise will be a nested list (a list of lists), where each sub-list will have two numeric values. Create a function named `repeatNumbers` that will **return a string** with each of the given values repeated the appropriate number of times. If there are multiple sets of values each set should be separated by a comma. If there is only one set of values then you should omit the comma."
   ]
  },
  {
   "cell_type": "code",
   "execution_count": 1,
   "metadata": {},
   "outputs": [],
   "source": [
    "def repeatNumbers(nested_list: list) -> str:\n",
    "    to_return = [str(_list[0]) * _list[1] for _list in nested_list]\n",
    "    return ', '.join(to_return)"
   ]
  },
  {
   "cell_type": "code",
   "execution_count": 2,
   "metadata": {},
   "outputs": [
    {
     "name": "stdout",
     "output_type": "stream",
     "text": [
      "1111111111\n",
      "11, 222\n",
      "10101010, 343434343434, 9292\n"
     ]
    }
   ],
   "source": [
    "print(repeatNumbers([[1, 10]]))\n",
    "print(repeatNumbers([[1, 2], [2, 3]]))\n",
    "print(repeatNumbers([[10, 4], [34, 6], [92, 2]]))"
   ]
  }
 ],
 "metadata": {
  "interpreter": {
   "hash": "3c65cb42372d50da30584ee8e41e7a8159294c20fb842b6953e4488c68a49248"
  },
  "kernelspec": {
   "display_name": "Python 3.7.10 64-bit ('base': conda)",
   "name": "python3"
  },
  "language_info": {
   "codemirror_mode": {
    "name": "ipython",
    "version": 3
   },
   "file_extension": ".py",
   "mimetype": "text/x-python",
   "name": "python",
   "nbconvert_exporter": "python",
   "pygments_lexer": "ipython3",
   "version": "3.7.10"
  },
  "orig_nbformat": 4
 },
 "nbformat": 4,
 "nbformat_minor": 2
}
