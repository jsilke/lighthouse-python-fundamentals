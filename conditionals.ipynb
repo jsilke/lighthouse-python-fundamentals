{
 "cells": [
  {
   "cell_type": "markdown",
   "metadata": {},
   "source": [
    "# <u>**<a href=\"https://realpython.com/python-conditional-statements\">Conditionals</a> Exercises**</u>"
   ]
  },
  {
   "cell_type": "code",
   "execution_count": 1,
   "metadata": {},
   "outputs": [],
   "source": [
    "import random as rng"
   ]
  },
  {
   "cell_type": "code",
   "execution_count": 2,
   "metadata": {},
   "outputs": [
    {
     "name": "stdout",
     "output_type": "stream",
     "text": [
      "11\n",
      "You win!\n"
     ]
    }
   ],
   "source": [
    "# used to execute certain blocks of code depending on conditions.\n",
    "guess = 0\n",
    "secret = rng.randint(1, 100)\n",
    "print(secret)\n",
    "\n",
    "while int(guess) != secret:\n",
    "    guess = input('Enter an integer between 1 and 100:')\n",
    "\n",
    "    if (int(guess) > 0) and (int(guess) <= 100):\n",
    "\n",
    "        if int(guess) > secret:\n",
    "            print(\"Too high\")\n",
    "\n",
    "        elif int(guess) < secret:\n",
    "            print('Too low.')\n",
    "\n",
    "        else:\n",
    "            print('You win!')\n",
    "\n",
    "    else:\n",
    "        print('Integer out of range.')\n"
   ]
  },
  {
   "cell_type": "code",
   "execution_count": 3,
   "metadata": {},
   "outputs": [
    {
     "name": "stdout",
     "output_type": "stream",
     "text": [
      "See?\n",
      "This works too!\n"
     ]
    }
   ],
   "source": [
    "# conditionals can also be one-liners, even while executing multiple statements.\n",
    "if True: print('See?'); print('This works too!')"
   ]
  },
  {
   "cell_type": "code",
   "execution_count": 4,
   "metadata": {},
   "outputs": [],
   "source": [
    "# None of the statements will be executed if the condition is not met.\n",
    "if False: print('See?'); print('This no longer works.')"
   ]
  },
  {
   "cell_type": "code",
   "execution_count": 5,
   "metadata": {},
   "outputs": [
    {
     "name": "stdout",
     "output_type": "stream",
     "text": [
      "See?\n",
      "Now we print instead!\n"
     ]
    }
   ],
   "source": [
    "# This holds for elif and else also.\n",
    "if False: print('See?'); print('This no longer works.')\n",
    "elif True: print('See?'); print('Now we print instead!')\n",
    "else: print('See?'); print('No you don\\'t, it\\'s not my turn yet. :(')"
   ]
  },
  {
   "cell_type": "code",
   "execution_count": 6,
   "metadata": {},
   "outputs": [
    {
     "name": "stdout",
     "output_type": "stream",
     "text": [
      "See?\n",
      "Now it's my turn! :)\n"
     ]
    }
   ],
   "source": [
    "if False: print('See?'); print('This no longer works.')\n",
    "elif False: print('Aww.'); print('My turn is over.')\n",
    "else: print('See?'); print('Now it\\'s my turn! :)')"
   ]
  },
  {
   "cell_type": "code",
   "execution_count": 7,
   "metadata": {},
   "outputs": [
    {
     "name": "stdout",
     "output_type": "stream",
     "text": [
      "If the condition is True, I print\n"
     ]
    }
   ],
   "source": [
    "# There's also the conditional expression/ternary operator/conditional operator\n",
    "print('If the condition is True, I print') if True else print('If the condition is False, I print.')\n",
    "# <expression to execute if True> if <condition> else <expression to execute if False>"
   ]
  },
  {
   "cell_type": "code",
   "execution_count": 8,
   "metadata": {},
   "outputs": [
    {
     "name": "stdout",
     "output_type": "stream",
     "text": [
      "If the condition is False, I print.\n"
     ]
    }
   ],
   "source": [
    "print('If the condition is True, I print') if False else print('If the condition is False, I print.')"
   ]
  },
  {
   "cell_type": "code",
   "execution_count": 9,
   "metadata": {},
   "outputs": [
    {
     "data": {
      "text/plain": [
       "42"
      ]
     },
     "execution_count": 9,
     "metadata": {},
     "output_type": "execute_result"
    }
   ],
   "source": [
    "# The ternary operator should be used with parentheses in larger statements for clarity and to avoid unintended behaviour.\n",
    "x = y = 40\n",
    "z = 1 + x if x > y else y + 2\n",
    "# ^ evaluates as z = (1 + x) if (x > y) else (y + 2)\n",
    "z\n",
    "# x > y == False, therefore z = y + 2 = 42"
   ]
  },
  {
   "cell_type": "code",
   "execution_count": 10,
   "metadata": {},
   "outputs": [
    {
     "data": {
      "text/plain": [
       "43"
      ]
     },
     "execution_count": 10,
     "metadata": {},
     "output_type": "execute_result"
    }
   ],
   "source": [
    "# Here, we have z = 1 + y + 2 = 43\n",
    "z = 1 + (x if x > y else y) + 2\n",
    "z"
   ]
  }
 ],
 "metadata": {
  "interpreter": {
   "hash": "3c65cb42372d50da30584ee8e41e7a8159294c20fb842b6953e4488c68a49248"
  },
  "kernelspec": {
   "display_name": "Python 3.7.10 64-bit ('base': conda)",
   "name": "python3"
  },
  "language_info": {
   "codemirror_mode": {
    "name": "ipython",
    "version": 3
   },
   "file_extension": ".py",
   "mimetype": "text/x-python",
   "name": "python",
   "nbconvert_exporter": "python",
   "pygments_lexer": "ipython3",
   "version": "3.7.10"
  },
  "orig_nbformat": 4
 },
 "nbformat": 4,
 "nbformat_minor": 2
}
