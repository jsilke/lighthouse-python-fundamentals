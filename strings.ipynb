{
 "cells": [
  {
   "cell_type": "markdown",
   "metadata": {},
   "source": [
    "# <u>**String Exercises**</u>"
   ]
  },
  {
   "cell_type": "markdown",
   "metadata": {},
   "source": [
    "## **1) Introduction to Strings (Compass)**\n",
    "---"
   ]
  },
  {
   "cell_type": "markdown",
   "metadata": {},
   "source": [
    "- Strings can be wrapped in single (') or double (\") quotes.\n",
    "- nested quotes may require the use of the escape character \\\n"
   ]
  },
  {
   "cell_type": "code",
   "execution_count": 1,
   "metadata": {},
   "outputs": [
    {
     "name": "stdout",
     "output_type": "stream",
     "text": [
      "Let's get down to business!\n",
      "Let's get down to business!\n"
     ]
    }
   ],
   "source": [
    "# e.g.\n",
    "print('Let\\'s get down to business!')\n",
    "print(\"Let's get down to business!\")\n",
    "\n",
    "# Omitting the \\ in the first print function results in a syntax error."
   ]
  },
  {
   "cell_type": "code",
   "execution_count": 2,
   "metadata": {},
   "outputs": [
    {
     "name": "stdout",
     "output_type": "stream",
     "text": [
      "I said, \"we should go\" and we left.\n",
      "I said, \"we should go\" and we left.\n"
     ]
    }
   ],
   "source": [
    "print('I said, \"we should go\" and we left.')\n",
    "print(\"I said, \\\"we should go\\\" and we left.\")"
   ]
  },
  {
   "cell_type": "markdown",
   "metadata": {},
   "source": [
    "## **2) <a href=\"https://realpython.com/python-strings/\">String Operations</a>**\n",
    "---\n",
    "*... up to \"String Formatting\"*"
   ]
  },
  {
   "cell_type": "code",
   "execution_count": 3,
   "metadata": {},
   "outputs": [
    {
     "name": "stdout",
     "output_type": "stream",
     "text": [
      "foobar\n",
      "foobarbaz\n",
      "Go team!!!\n"
     ]
    }
   ],
   "source": [
    "# + concatenates strings\n",
    "s = 'foo'\n",
    "t = 'bar'\n",
    "u = 'baz'\n",
    "\n",
    "print(s + t)\n",
    "print(s + t + u)\n",
    "\n",
    "print('Go team' + '!!!')"
   ]
  },
  {
   "cell_type": "code",
   "execution_count": 4,
   "metadata": {},
   "outputs": [
    {
     "name": "stdout",
     "output_type": "stream",
     "text": [
      "foo.foo.foo.foo.\n",
      "foo.foo.foo.foo.\n",
      " <- see?\n",
      " <- blank!\n"
     ]
    }
   ],
   "source": [
    "# * multiplies strings by an integer. If the integer is < 1, then an empty string is returned.\n",
    "s = 'foo.'\n",
    "print(s * 4)\n",
    "print(4 * s)\n",
    "print(s * 0, '<- see?')\n",
    "print(s * -5, '<- blank!')"
   ]
  },
  {
   "cell_type": "code",
   "execution_count": 5,
   "metadata": {},
   "outputs": [
    {
     "name": "stdout",
     "output_type": "stream",
     "text": [
      "True\n",
      "False\n"
     ]
    }
   ],
   "source": [
    "# in checks for the first element is a subset of the following element and returns a boolean:\n",
    "s = 'foo'\n",
    "\n",
    "print(s in 'That\\'s food for thought.')\n",
    "print(s in 'That\\'s good for now.')"
   ]
  },
  {
   "cell_type": "code",
   "execution_count": 6,
   "metadata": {},
   "outputs": [
    {
     "name": "stdout",
     "output_type": "stream",
     "text": [
      "True\n",
      "False\n"
     ]
    }
   ],
   "source": [
    "# not does the opposite of in:\n",
    "\n",
    "print('z' not in 'abc')\n",
    "print('z' not in 'xyz')"
   ]
  },
  {
   "cell_type": "code",
   "execution_count": 7,
   "metadata": {},
   "outputs": [
    {
     "name": "stdout",
     "output_type": "stream",
     "text": [
      "97\n",
      "35\n",
      "8364\n",
      "8721\n"
     ]
    }
   ],
   "source": [
    "# ord(<character>) returns an integer value for a character.\n",
    "\n",
    "#ASCII\n",
    "print(ord('a'))\n",
    "print(ord('#'))\n",
    "\n",
    "#Unicode\n",
    "print(ord('€'))\n",
    "print(ord('∑'))"
   ]
  },
  {
   "cell_type": "code",
   "execution_count": 8,
   "metadata": {},
   "outputs": [
    {
     "name": "stdout",
     "output_type": "stream",
     "text": [
      "a\n",
      "#\n",
      "€\n",
      "∑\n"
     ]
    }
   ],
   "source": [
    "# chr(<integer>) does the inverse of ord(<character>), returns the character associated with an integer.\n",
    "\n",
    "# ASCII\n",
    "print(chr(97))\n",
    "print(chr(35))\n",
    "\n",
    "# Unicode\n",
    "print(chr(8364))\n",
    "print(chr(8721))\n"
   ]
  },
  {
   "cell_type": "code",
   "execution_count": 9,
   "metadata": {},
   "outputs": [
    {
     "data": {
      "text/plain": [
       "14"
      ]
     },
     "execution_count": 9,
     "metadata": {},
     "output_type": "execute_result"
    }
   ],
   "source": [
    "# len(<string>) returns the length of a string (number of elements in a list)\n",
    "s = 'I am a string.'\n",
    "len(s)"
   ]
  },
  {
   "cell_type": "code",
   "execution_count": 10,
   "metadata": {},
   "outputs": [
    {
     "name": "stdout",
     "output_type": "stream",
     "text": [
      "49.2\n",
      "(3+4j)\n",
      "32\n",
      "foo\n"
     ]
    }
   ],
   "source": [
    "# print(str(<object>) returns the string representation of the object.\n",
    "\n",
    "print(str(49.2))\n",
    "print(str(3+4j))\n",
    "print(str(3 + 29))\n",
    "print(str('foo'))"
   ]
  },
  {
   "cell_type": "code",
   "execution_count": 11,
   "metadata": {},
   "outputs": [
    {
     "name": "stdout",
     "output_type": "stream",
     "text": [
      "f\n",
      "o\n",
      "b\n",
      "6\n",
      "r\n",
      "f\n"
     ]
    }
   ],
   "source": [
    "# Strings are indexed from 0.\n",
    "s = 'foobar'\n",
    "\n",
    "print(s[0])\n",
    "#f\n",
    "\n",
    "print(s[1])\n",
    "#o\n",
    "\n",
    "print(s[3])\n",
    "#b\n",
    "\n",
    "print(len(s))\n",
    "#6\n",
    "\n",
    "print(s[len(s)-1])\n",
    "#r\n",
    "\n",
    "print(s[-6])\n",
    "#f"
   ]
  },
  {
   "cell_type": "code",
   "execution_count": 12,
   "metadata": {},
   "outputs": [
    {
     "ename": "IndexError",
     "evalue": "string index out of range",
     "output_type": "error",
     "traceback": [
      "\u001b[1;31m---------------------------------------------------------------------------\u001b[0m",
      "\u001b[1;31mIndexError\u001b[0m                                Traceback (most recent call last)",
      "\u001b[1;32m<ipython-input-12-1f460292f7fe>\u001b[0m in \u001b[0;36m<module>\u001b[1;34m\u001b[0m\n\u001b[0;32m      1\u001b[0m \u001b[1;31m# IndexError occurs when the index referenced is out of bounds.\u001b[0m\u001b[1;33m\u001b[0m\u001b[1;33m\u001b[0m\u001b[1;33m\u001b[0m\u001b[0m\n\u001b[0;32m      2\u001b[0m \u001b[1;33m\u001b[0m\u001b[0m\n\u001b[1;32m----> 3\u001b[1;33m \u001b[0ms\u001b[0m\u001b[1;33m[\u001b[0m\u001b[1;33m-\u001b[0m\u001b[1;36m7\u001b[0m\u001b[1;33m]\u001b[0m\u001b[1;33m\u001b[0m\u001b[1;33m\u001b[0m\u001b[0m\n\u001b[0m",
      "\u001b[1;31mIndexError\u001b[0m: string index out of range"
     ]
    }
   ],
   "source": [
    "# IndexError occurs when the index referenced is out of bounds.\n",
    "\n",
    "s[-7]"
   ]
  },
  {
   "cell_type": "code",
   "execution_count": null,
   "metadata": {},
   "outputs": [],
   "source": [
    "s[6]"
   ]
  },
  {
   "cell_type": "code",
   "execution_count": null,
   "metadata": {},
   "outputs": [],
   "source": [
    "# Strings can be 'sliced' into substrings.\n",
    "s = 'foobar'\n",
    "\n",
    "s[2:5]\n",
    "#'oba'"
   ]
  },
  {
   "cell_type": "code",
   "execution_count": null,
   "metadata": {},
   "outputs": [],
   "source": [
    "# If slicing from 0, the first part of the index can be omitted.\n",
    "\n",
    "print(s[:4])\n",
    "print(s[0:4])"
   ]
  },
  {
   "cell_type": "code",
   "execution_count": null,
   "metadata": {},
   "outputs": [],
   "source": [
    "# \"For any string s and any integer n (0 ≤ n ≤ len(s)), s[:n] + s[n:] will be equal to s\"\n",
    "\n",
    "print(s[:4] + s[4:])\n",
    "s[:4] + s[4:] == s"
   ]
  },
  {
   "cell_type": "code",
   "execution_count": null,
   "metadata": {},
   "outputs": [],
   "source": [
    "# Omitting both indices from the slice returns the original string.\n",
    "\n",
    "s = 'foobar'\n",
    "t = s[:]\n",
    "\n",
    "print(id(s))\n",
    "print(id(t))\n",
    "print(s is t)"
   ]
  },
  {
   "cell_type": "code",
   "execution_count": null,
   "metadata": {},
   "outputs": [],
   "source": [
    "# Negative indices work with slicing as well and reference the same string as positive indices.\n",
    "\n",
    "s = 'foobar'\n",
    "\n",
    "print(s[-5:-2])\n",
    "print(s[1:4])\n",
    "print(s[-5:-2] == s[1:4])"
   ]
  },
  {
   "cell_type": "code",
   "execution_count": null,
   "metadata": {},
   "outputs": [],
   "source": [
    "# Step size can be specified as a third index in the slice notation:\n",
    "\n",
    "s = 'foobar'\n",
    "\n",
    "# print every second character from indices 0 to 5 (inclusive) of s.\n",
    "print(s[0:6:2])\n",
    "# print every second character from indices 1 to 5 (inclusive) of s.\n",
    "print(s[1:6:2])\n",
    "# print every fifth character of s.\n",
    "print(s[::5])\n",
    "# print every fifth character, starting with the character at index 4, to the end of s.\n",
    "print(s[4::5])\n",
    "# “start at the last character and step backward by 2, up to but not including the first character.”\n",
    "print(s[5:0:-2])\n",
    "# prints the reverse of the string.\n",
    "print(s[::-1])"
   ]
  },
  {
   "cell_type": "code",
   "execution_count": null,
   "metadata": {},
   "outputs": [],
   "source": [
    "# Formatted string literals (f-strings) can be used to include variables in strings:\n",
    "\n",
    "n = 20\n",
    "m = 25\n",
    "prod = n * m\n",
    "\n",
    "# I sleep...\n",
    "print('The product of', n, 'and', m, 'is', prod)\n",
    "\n",
    "# Real Sith.\n",
    "print(f'The product of {n} and {m} is {prod}')"
   ]
  },
  {
   "cell_type": "code",
   "execution_count": null,
   "metadata": {},
   "outputs": [],
   "source": [
    "# f-strings work with all of the quotes:\n",
    "var = 'woof'\n",
    "\n",
    "print(f'A dog says {var}!')\n",
    "print(f\"A dog says {var}!\")\n",
    "print(f'''A dog says {var}!''')"
   ]
  },
  {
   "cell_type": "code",
   "execution_count": null,
   "metadata": {},
   "outputs": [],
   "source": [
    "# Strings are immutable (cannot be modified).\n",
    "\n",
    "# TypeError, not fooxar!\n",
    "s = 'foobar'\n",
    "s[3] = 'x'"
   ]
  },
  {
   "cell_type": "code",
   "execution_count": null,
   "metadata": {},
   "outputs": [],
   "source": [
    "# This can be sidestepped with some creative thinking:\n",
    "s = s[:3] + 'x' + s[4:]\n",
    "print(s)"
   ]
  },
  {
   "cell_type": "code",
   "execution_count": null,
   "metadata": {},
   "outputs": [],
   "source": [
    "# Methods can be invoked using <object>.method(<arguments>). Strings have many such useful methods.\n",
    "s = 'thIs is a tEst sTrIng.  '\n",
    "\n",
    "# caps\n",
    "print(s.capitalize())\n",
    "# lowercase\n",
    "print(s.lower())\n",
    "# uppercase\n",
    "print(s.upper())\n",
    "# case inversion\n",
    "print(s.swapcase())\n",
    "# capitalize first letter of each word.\n",
    "print(s.title())\n",
    "\n",
    "# counts case sensitive substring ocurrences.\n",
    "print(s.count('i'))\n",
    "# determine if string ends with a substring.\n",
    "print(s.endswith(' '))\n",
    "# search string for given substring, return the first starting index or returns -1 if not found.\n",
    "print(s.find('t'))\n",
    "# same as find, but returns an exception instead of -1 if the substring is not present.\n",
    "print(s.index('t'))\n",
    "# same as find but searches from the end instead of the beginning\n",
    "print(s.rfind('t'))\n",
    "# same as index, but from the end of the string.\n",
    "print(s.rindex('t'))\n",
    "# determine if string ends with a substring.\n",
    "print(s.startswith('th'))\n"
   ]
  },
  {
   "cell_type": "code",
   "execution_count": null,
   "metadata": {},
   "outputs": [],
   "source": [
    "# The following are all used to classify strings:\n",
    "\n",
    "# check for title case\n",
    "print(s.istitle())\n",
    "# check if all characters alphanumeric\n",
    "print(s.isalnum())\n",
    "# check if the string has all alphabetic characters\n",
    "print(s.isalpha())\n",
    "# check if the string is digit characters\n",
    "print(s.isdigit())\n",
    "# check if string is numeric\n",
    "print(s.isnumeric())\n",
    "# check if string is a valid python identifier\n",
    "print(s.isidentifier())\n",
    "# check if string is lowercase\n",
    "print(s.islower())\n",
    "# check if all characters in the string are printable\n",
    "print(s.isprintable())\n",
    "# check if string is composed of whitespace\n",
    "print(s.isspace())\n",
    "# check if string is uppercase\n",
    "print(s.isupper())\n",
    "\n"
   ]
  },
  {
   "cell_type": "markdown",
   "metadata": {},
   "source": [
    "### There are many more <a href=\"https://docs.python.org/3/library/stdtypes.html#string-methods\">string methods</a>"
   ]
  }
 ],
 "metadata": {
  "interpreter": {
   "hash": "3c65cb42372d50da30584ee8e41e7a8159294c20fb842b6953e4488c68a49248"
  },
  "kernelspec": {
   "display_name": "Python 3.7.10 64-bit ('base': conda)",
   "name": "python3"
  },
  "language_info": {
   "codemirror_mode": {
    "name": "ipython",
    "version": 3
   },
   "file_extension": ".py",
   "mimetype": "text/x-python",
   "name": "python",
   "nbconvert_exporter": "python",
   "pygments_lexer": "ipython3",
   "version": "3.7.10"
  },
  "orig_nbformat": 4
 },
 "nbformat": 4,
 "nbformat_minor": 2
}
