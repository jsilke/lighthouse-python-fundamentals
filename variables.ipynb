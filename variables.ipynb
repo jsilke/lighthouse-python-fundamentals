{
 "cells": [
  {
   "cell_type": "markdown",
   "metadata": {},
   "source": [
    "# <u>**Variables Exercises**</u>"
   ]
  },
  {
   "cell_type": "markdown",
   "metadata": {},
   "source": [
    "## **1) Compass**\n",
    "---"
   ]
  },
  {
   "cell_type": "code",
   "execution_count": 1,
   "metadata": {},
   "outputs": [
    {
     "name": "stdout",
     "output_type": "stream",
     "text": [
      "Hello Thomas, it's very nice to meet you!\n",
      "Your total bill is: \n",
      "22.8\n",
      "Vancouver looks like a cool place to go!!\n",
      "Montreal looks like a cool place to go!!\n",
      "Calgary looks like a cool place to go!!\n",
      "Toronto looks like a cool place to go!!\n"
     ]
    }
   ],
   "source": [
    "# name is a variable. It contains a string\n",
    "name = \"Thomas\"\n",
    "print(\"Hello \" + name + \", it's very nice to meet you!\")\n",
    "\n",
    "# taxRate, subtotal, tax and total are all variables that contain numbers\n",
    "taxRate = 0.14\n",
    "subtotal = 20\n",
    "tax = subtotal * taxRate\n",
    "total = subtotal + tax\n",
    "print(\"Your total bill is: \")\n",
    "print(total)\n",
    "\n",
    "# travelDestinations is a variable containing a list\n",
    "# city is a variable - its value is changing a few times\n",
    "travelDestinations = [\"Vancouver\",\"Montreal\",\"Calgary\",\"Toronto\"]\n",
    "for city in travelDestinations:\n",
    "    print(city + \" looks like a cool place to go!!\")"
   ]
  },
  {
   "cell_type": "code",
   "execution_count": 2,
   "metadata": {},
   "outputs": [
    {
     "name": "stdout",
     "output_type": "stream",
     "text": [
      "Hello Jordan, it's very nice to meet you!\n"
     ]
    }
   ],
   "source": [
    "# name is a variable. It contains a string\n",
    "name = input(\"Please type your name:\\n\")\n",
    "print(\"Hello \" + name + \", it's very nice to meet you!\")"
   ]
  },
  {
   "cell_type": "markdown",
   "metadata": {},
   "source": [
    "## **2) Real Python**\n",
    "---"
   ]
  },
  {
   "cell_type": "code",
   "execution_count": null,
   "metadata": {},
   "outputs": [],
   "source": []
  }
 ],
 "metadata": {
  "interpreter": {
   "hash": "3c65cb42372d50da30584ee8e41e7a8159294c20fb842b6953e4488c68a49248"
  },
  "kernelspec": {
   "display_name": "Python 3.7.10 64-bit ('base': conda)",
   "name": "python3"
  },
  "language_info": {
   "codemirror_mode": {
    "name": "ipython",
    "version": 3
   },
   "file_extension": ".py",
   "mimetype": "text/x-python",
   "name": "python",
   "nbconvert_exporter": "python",
   "pygments_lexer": "ipython3",
   "version": "3.7.10"
  },
  "orig_nbformat": 4
 },
 "nbformat": 4,
 "nbformat_minor": 2
}
