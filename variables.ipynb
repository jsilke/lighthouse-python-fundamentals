{
 "cells": [
  {
   "cell_type": "markdown",
   "metadata": {},
   "source": [
    "# <u>**Variables Exercises**</u>"
   ]
  },
  {
   "cell_type": "markdown",
   "metadata": {},
   "source": [
    "## **1) Compass**\n",
    "---"
   ]
  },
  {
   "cell_type": "code",
   "execution_count": 1,
   "metadata": {},
   "outputs": [
    {
     "name": "stdout",
     "output_type": "stream",
     "text": [
      "Hello Thomas, it's very nice to meet you!\n",
      "Your total bill is: \n",
      "22.8\n",
      "Vancouver looks like a cool place to go!!\n",
      "Montreal looks like a cool place to go!!\n",
      "Calgary looks like a cool place to go!!\n",
      "Toronto looks like a cool place to go!!\n"
     ]
    }
   ],
   "source": [
    "# name is a variable. It contains a string\n",
    "name = \"Thomas\"\n",
    "print(\"Hello \" + name + \", it's very nice to meet you!\")\n",
    "\n",
    "# taxRate, subtotal, tax and total are all variables that contain numbers\n",
    "taxRate = 0.14\n",
    "subtotal = 20\n",
    "tax = subtotal * taxRate\n",
    "total = subtotal + tax\n",
    "print(\"Your total bill is: \")\n",
    "print(total)\n",
    "\n",
    "# travelDestinations is a variable containing a list\n",
    "# city is a variable - its value is changing a few times\n",
    "travelDestinations = [\"Vancouver\",\"Montreal\",\"Calgary\",\"Toronto\"]\n",
    "for city in travelDestinations:\n",
    "    print(city + \" looks like a cool place to go!!\")"
   ]
  },
  {
   "cell_type": "code",
   "execution_count": 2,
   "metadata": {},
   "outputs": [
    {
     "name": "stdout",
     "output_type": "stream",
     "text": [
      "Hello Jordan, it's very nice to meet you!\n"
     ]
    }
   ],
   "source": [
    "# name is a variable. It contains a string\n",
    "name = input(\"Please type your name:\\n\")\n",
    "print(\"Hello \" + name + \", it's very nice to meet you!\")"
   ]
  },
  {
   "cell_type": "markdown",
   "metadata": {},
   "source": [
    "## **2) <a href=\"https://realpython.com/python-variables/\">Variables in Python</a>**\n",
    "---"
   ]
  },
  {
   "cell_type": "code",
   "execution_count": 3,
   "metadata": {},
   "outputs": [
    {
     "name": "stdout",
     "output_type": "stream",
     "text": [
      "5.3\n"
     ]
    }
   ],
   "source": [
    "print(5.3)"
   ]
  },
  {
   "cell_type": "code",
   "execution_count": 8,
   "metadata": {},
   "outputs": [
    {
     "name": "stdout",
     "output_type": "stream",
     "text": [
      "300\n"
     ]
    }
   ],
   "source": [
    " # Assign 300 to n and print the value.\n",
    " n = 300\n",
    " print(n)"
   ]
  },
  {
   "cell_type": "code",
   "execution_count": 9,
   "metadata": {},
   "outputs": [
    {
     "data": {
      "text/plain": [
       "300"
      ]
     },
     "execution_count": 9,
     "metadata": {},
     "output_type": "execute_result"
    }
   ],
   "source": [
    "# Variables are displyed like literals without the need for print().\n",
    "n"
   ]
  },
  {
   "cell_type": "code",
   "execution_count": 10,
   "metadata": {},
   "outputs": [
    {
     "name": "stdout",
     "output_type": "stream",
     "text": [
      "1000\n"
     ]
    },
    {
     "data": {
      "text/plain": [
       "1000"
      ]
     },
     "execution_count": 10,
     "metadata": {},
     "output_type": "execute_result"
    }
   ],
   "source": [
    "# Variables can be dynamically reassigned and will return their most recently assigned value.\n",
    "n = 1000\n",
    "print(n)\n",
    "n"
   ]
  },
  {
   "cell_type": "code",
   "execution_count": 11,
   "metadata": {},
   "outputs": [
    {
     "name": "stdout",
     "output_type": "stream",
     "text": [
      "300 300 300\n"
     ]
    }
   ],
   "source": [
    "# Variable assignments can be chained in python.\n",
    "a = b = c = 300\n",
    "print(a, b, c)"
   ]
  },
  {
   "cell_type": "code",
   "execution_count": 14,
   "metadata": {},
   "outputs": [
    {
     "name": "stdout",
     "output_type": "stream",
     "text": [
      "<class 'float'>\n",
      "<class 'str'>\n"
     ]
    }
   ],
   "source": [
    "# Python variables are dynamically typed.\n",
    "var = 23.4\n",
    "print(type(var))\n",
    "\n",
    "var = \"Now I'm a string!\"\n",
    "print(type(var))"
   ]
  },
  {
   "cell_type": "code",
   "execution_count": 16,
   "metadata": {},
   "outputs": [
    {
     "name": "stdout",
     "output_type": "stream",
     "text": [
      "300\n"
     ]
    },
    {
     "data": {
      "text/plain": [
       "int"
      ]
     },
     "execution_count": 16,
     "metadata": {},
     "output_type": "execute_result"
    }
   ],
   "source": [
    "# Virtaully all data in python is an object (in this case 300 is an integer object with a value of 300).\n",
    "print(300)\n",
    "type(300)"
   ]
  },
  {
   "cell_type": "code",
   "execution_count": 17,
   "metadata": {},
   "outputs": [],
   "source": [
    "# Python variable act as references/pointers to objects. The object can be referred to using the variable name but the data is contained within the object (not the reference).\n",
    "\n",
    "n = 300\n",
    "# n -> <IntegerObject>(300)"
   ]
  },
  {
   "cell_type": "code",
   "execution_count": 18,
   "metadata": {},
   "outputs": [
    {
     "name": "stdout",
     "output_type": "stream",
     "text": [
      "300\n"
     ]
    },
    {
     "data": {
      "text/plain": [
       "int"
      ]
     },
     "execution_count": 18,
     "metadata": {},
     "output_type": "execute_result"
    }
   ],
   "source": [
    "print(n)\n",
    "type(n)"
   ]
  },
  {
   "cell_type": "code",
   "execution_count": 19,
   "metadata": {},
   "outputs": [],
   "source": [
    "m = n\n",
    "# The above does not create another <IntegerObject>(300), it merely assigns m as another pointer/reference to the same object created previously.\n",
    "# n -> 300 <- m"
   ]
  },
  {
   "cell_type": "code",
   "execution_count": 20,
   "metadata": {},
   "outputs": [],
   "source": [
    "m = 400\n",
    "# Now a new <IntegerObject>(400) is created and m references/points to it.\n",
    "# n -> 300\n",
    "# m -> 400"
   ]
  },
  {
   "cell_type": "code",
   "execution_count": 21,
   "metadata": {},
   "outputs": [],
   "source": [
    "n = 'foo'\n",
    "# n -> 'foo'\n",
    "# 300 is currently inaccessible/orphaned. Since its 'lifetime' is over, it will be deleted so that the memory can be reallocated elsewhere if needed.\n",
    "# m -> 400"
   ]
  },
  {
   "cell_type": "code",
   "execution_count": 23,
   "metadata": {},
   "outputs": [
    {
     "name": "stdout",
     "output_type": "stream",
     "text": [
      "1889805897552 1889805897552\n"
     ]
    },
    {
     "data": {
      "text/plain": [
       "1889804622064"
      ]
     },
     "execution_count": 23,
     "metadata": {},
     "output_type": "execute_result"
    }
   ],
   "source": [
    "# Every object has a unique identifier that can be accessed with the id() function.\n",
    "n = 300\n",
    "m = n\n",
    "print(id(n), id(m))\n",
    "\n",
    "m = 400\n",
    "id(m)"
   ]
  },
  {
   "cell_type": "code",
   "execution_count": 35,
   "metadata": {},
   "outputs": [
    {
     "name": "stdout",
     "output_type": "stream",
     "text": [
      "m = 30 id: 140726438962496 \n",
      "n = 30 id: 140726438962496 \n",
      "\n",
      "m = 257 id: 1889818506256 \n",
      "n = 257 id: 1889818505936 \n",
      "\n",
      "m = -6 id: 1889818505648 \n",
      "n = -6 id: 1889818506160 \n",
      "\n"
     ]
    }
   ],
   "source": [
    "# The python interpreter creates objects for integers in the range [-5, 256] at startup for optimization.\n",
    "m = 30\n",
    "n = 30\n",
    "print('m =', m, 'id:', id(m), '\\nn =', n, 'id:', id(n), '\\n')\n",
    "# Even though the above variables are assigned at different times they still have the same id because of this.\n",
    "\n",
    "# These have disparate ids despite being the same numbers for the aforementioned reason.\n",
    "m = 257\n",
    "n = 257\n",
    "print('m =', m, 'id:', id(m), '\\nn =', n, 'id:', id(n), '\\n')\n",
    "\n",
    "m = -6\n",
    "n = -6\n",
    "print('m =', m, 'id:', id(m), '\\nn =', n, 'id:', id(n), '\\n')"
   ]
  },
  {
   "cell_type": "markdown",
   "metadata": {},
   "source": [
    "### As per PEP 8:\n",
    "- snake_case should be used for functions and variable names.\n",
    "- PascalCase should be used for class names.\n",
    "\n",
    "Variable names are case sensitive and cannot be the same as reserved keywords (help(\"keywords\")) or begin with a digit. "
   ]
  }
 ],
 "metadata": {
  "interpreter": {
   "hash": "3c65cb42372d50da30584ee8e41e7a8159294c20fb842b6953e4488c68a49248"
  },
  "kernelspec": {
   "display_name": "Python 3.7.10 64-bit ('base': conda)",
   "name": "python3"
  },
  "language_info": {
   "codemirror_mode": {
    "name": "ipython",
    "version": 3
   },
   "file_extension": ".py",
   "mimetype": "text/x-python",
   "name": "python",
   "nbconvert_exporter": "python",
   "pygments_lexer": "ipython3",
   "version": "3.7.10"
  },
  "orig_nbformat": 4
 },
 "nbformat": 4,
 "nbformat_minor": 2
}
